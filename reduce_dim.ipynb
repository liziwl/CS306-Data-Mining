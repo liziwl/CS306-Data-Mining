{
 "cells": [
  {
   "cell_type": "code",
   "execution_count": 1,
   "metadata": {},
   "outputs": [],
   "source": [
    "import numpy as np"
   ]
  },
  {
   "cell_type": "code",
   "execution_count": 11,
   "metadata": {},
   "outputs": [
    {
     "name": "stdout",
     "output_type": "stream",
     "text": [
      "[[ 30 103]\n",
      " [103 369]]\n",
      "[[ 17  18  39  68]\n",
      " [ 18  20  42  72]\n",
      " [ 39  42  90 156]\n",
      " [ 68  72 156 272]]\n"
     ]
    }
   ],
   "source": [
    "m = np.array([[1,4],[2,4],[3,9],[4,16]])\n",
    "print(np.dot(m.T,m))\n",
    "print(np.dot(m,m.T))"
   ]
  },
  {
   "cell_type": "code",
   "execution_count": 19,
   "metadata": {},
   "outputs": [
    {
     "name": "stdout",
     "output_type": "stream",
     "text": [
      "[[ 30 103]\n",
      " [103 369]]\n",
      "(array([  1.15875366, 397.84124634]), array([[-0.96296099, -0.26964073],\n",
      "       [ 0.26964073, -0.96296099]]))\n"
     ]
    }
   ],
   "source": [
    "mm = np.dot(m.T,m)\n",
    "print(mm)\n",
    "print(np.linalg.eig(mm))"
   ]
  },
  {
   "cell_type": "code",
   "execution_count": 20,
   "metadata": {},
   "outputs": [
    {
     "name": "stdout",
     "output_type": "stream",
     "text": [
      "[[ 17  18  39  68]\n",
      " [ 18  20  42  72]\n",
      " [ 39  42  90 156]\n",
      " [ 68  72 156 272]]\n",
      "(array([ 3.97841246e+02,  1.15875366e+00, -5.98858961e-15,  1.83747803e-15]), array([[-0.20663258,  0.1073914 ,  0.9407655 ,  0.01587037],\n",
      "       [-0.22015114, -0.78717614, -0.10679013,  0.57527444],\n",
      "       [-0.47506222, -0.429295  ,  0.14238684, -0.76703259],\n",
      "       [-0.8265303 ,  0.42956561, -0.28858644,  0.28366963]]))\n"
     ]
    }
   ],
   "source": [
    "mmt = np.dot(m,m.T)\n",
    "print(mmt)\n",
    "print(np.linalg.eig(mmt))"
   ]
  },
  {
   "cell_type": "code",
   "execution_count": 21,
   "metadata": {},
   "outputs": [
    {
     "name": "stdout",
     "output_type": "stream",
     "text": [
      "[[2 2 0]\n",
      " [2 2 0]\n",
      " [0 0 0]]\n",
      "[[2 2]\n",
      " [2 2]]\n"
     ]
    }
   ],
   "source": [
    "a = np.array([[1,1],[1,1],[0,0]])\n",
    "print(np.dot(a,a.T))\n",
    "print(np.dot(a.T,a))"
   ]
  },
  {
   "cell_type": "code",
   "execution_count": 26,
   "metadata": {},
   "outputs": [
    {
     "name": "stdout",
     "output_type": "stream",
     "text": [
      "[[-0.70710678  0.         -0.70710678]\n",
      " [-0.70710678  0.          0.70710678]\n",
      " [ 0.          1.          0.        ]]\n",
      "[4. 0. 0.]\n",
      "[[-0.70710678 -0.70710678 -0.        ]\n",
      " [ 0.          0.          1.        ]\n",
      " [-0.70710678  0.70710678  0.        ]]\n"
     ]
    }
   ],
   "source": [
    "U,sigma,VT=np.linalg.svd(np.dot(a,a.T))\n",
    "print (U)\n",
    "print (sigma)\n",
    "print (VT)"
   ]
  },
  {
   "cell_type": "code",
   "execution_count": 27,
   "metadata": {},
   "outputs": [
    {
     "name": "stdout",
     "output_type": "stream",
     "text": [
      "[[-0.70710678 -0.70710678]\n",
      " [-0.70710678  0.70710678]]\n",
      "[4. 0.]\n",
      "[[-0.70710678 -0.70710678]\n",
      " [-0.70710678  0.70710678]]\n"
     ]
    }
   ],
   "source": [
    "U,sigma,VT=np.linalg.svd(np.dot(a.T,a))\n",
    "print (U)\n",
    "print (sigma)\n",
    "print (VT)"
   ]
  },
  {
   "cell_type": "code",
   "execution_count": null,
   "metadata": {},
   "outputs": [],
   "source": []
  }
 ],
 "metadata": {
  "kernelspec": {
   "display_name": "Python 3.6",
   "language": "python",
   "name": "python36"
  },
  "language_info": {
   "codemirror_mode": {
    "name": "ipython",
    "version": 3
   },
   "file_extension": ".py",
   "mimetype": "text/x-python",
   "name": "python",
   "nbconvert_exporter": "python",
   "pygments_lexer": "ipython3",
   "version": "3.6.3"
  }
 },
 "nbformat": 4,
 "nbformat_minor": 2
}
